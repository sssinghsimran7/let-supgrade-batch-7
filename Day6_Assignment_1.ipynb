{
  "nbformat": 4,
  "nbformat_minor": 0,
  "metadata": {
    "colab": {
      "name": "Day6 Assignment 1.ipynb",
      "provenance": [],
      "collapsed_sections": [],
      "authorship_tag": "ABX9TyN6HQwHORZRniSh6N5ytt8x",
      "include_colab_link": true
    },
    "kernelspec": {
      "name": "python3",
      "display_name": "Python 3"
    }
  },
  "cells": [
    {
      "cell_type": "markdown",
      "metadata": {
        "id": "view-in-github",
        "colab_type": "text"
      },
      "source": [
        "<a href=\"https://colab.research.google.com/github/sssinghsimran7/let-supgrade-batch-7/blob/master/Day6_Assignment_1.ipynb\" target=\"_parent\"><img src=\"https://colab.research.google.com/assets/colab-badge.svg\" alt=\"Open In Colab\"/></a>"
      ]
    },
    {
      "cell_type": "code",
      "metadata": {
        "id": "Nef12TG45xRs",
        "colab_type": "code",
        "colab": {
          "base_uri": "https://localhost:8080/",
          "height": 310
        },
        "outputId": "48f513b6-d63b-46dc-ed44-f2c7c5d4a703"
      },
      "source": [
        " \n",
        "# class for Bank_Account \n",
        " \n",
        "class BankAccount: \n",
        " \n",
        "    def __init__(self): \n",
        " \n",
        "        self.ownerName=\"Simran Singh\"\n",
        "       \n",
        "        \n",
        "        self.Balance=0\n",
        "        \n",
        "    def deposit(self): \n",
        "        \n",
        "        Amount=float(input(\"\\nEnter amount to be Deposited : \")) \n",
        "        \n",
        "        self.Balance += Amount \n",
        "        \n",
        "        print(\"\\nAmount Deposited : \",Amount) \n",
        "  \n",
        "    def withdraw(self): \n",
        "        \n",
        "        Amount = float(input(\"\\nEnter amount to be Withdrawn : \")) \n",
        "        \n",
        "        if self.Balance >= Amount: \n",
        "        \n",
        "            self.Balance -= Amount \n",
        "            \n",
        "            print(\"\\nYou've withdrawn :\", Amount) \n",
        "        \n",
        "        else: \n",
        "        \n",
        "            print(\"\\nInsufficient balance in your account. You can withdraw only upto\", self.Balance) \n",
        " \n",
        "print(\"\\n---WELCOME TO YOUR BANK ACCOUNT---\")\n",
        "    \n",
        "BA = BankAccount()\n",
        " \n",
        "print(\"\\nAccount Holder Name : \",BA.ownerName)\n",
        "    \n",
        "print(\"\\nInitial Account Balance : \",BA.Balance)\n",
        "   \n",
        "BA.deposit()\n",
        "    \n",
        "BA.withdraw()\n",
        "    \n",
        "print(\"\\nNet Avaliable balance is : \",BA.Balance)"
      ],
      "execution_count": 3,
      "outputs": [
        {
          "output_type": "stream",
          "text": [
            "\n",
            "---WELCOME TO YOUR BANK ACCOUNT---\n",
            "\n",
            "Account Holder Name :  Simran Singh\n",
            "\n",
            "Initial Account Balance :  0\n",
            "\n",
            "Enter amount to be Deposited : 60000\n",
            "\n",
            "Amount Deposited :  60000.0\n",
            "\n",
            "Enter amount to be Withdrawn : 650000\n",
            "\n",
            "Insufficient balance in your account. You can withdraw only upto 60000.0\n",
            "\n",
            "Net Avaliable balance is :  60000.0\n"
          ],
          "name": "stdout"
        }
      ]
    }
  ]
}