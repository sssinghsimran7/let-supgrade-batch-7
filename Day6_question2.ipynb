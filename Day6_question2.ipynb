{
  "nbformat": 4,
  "nbformat_minor": 0,
  "metadata": {
    "colab": {
      "name": "Day6  question2.ipynb",
      "provenance": [],
      "collapsed_sections": [],
      "authorship_tag": "ABX9TyNfii1NkFWqYbvDuqbbw7Qq",
      "include_colab_link": true
    },
    "kernelspec": {
      "name": "python3",
      "display_name": "Python 3"
    }
  },
  "cells": [
    {
      "cell_type": "markdown",
      "metadata": {
        "id": "view-in-github",
        "colab_type": "text"
      },
      "source": [
        "<a href=\"https://colab.research.google.com/github/sssinghsimran7/let-supgrade-batch-7/blob/master/Day6_question2.ipynb\" target=\"_parent\"><img src=\"https://colab.research.google.com/assets/colab-badge.svg\" alt=\"Open In Colab\"/></a>"
      ]
    },
    {
      "cell_type": "code",
      "metadata": {
        "id": "Abq53zRxU_Fu",
        "colab_type": "code",
        "colab": {
          "base_uri": "https://localhost:8080/",
          "height": 174
        },
        "outputId": "b7988002-9ba7-4d32-b108-5a74072a23da"
      },
      "source": [
        " \n",
        "import math\n",
        " \n",
        "pi = math.pi\n",
        " \n",
        "class cone:\n",
        "    \n",
        "    def __init__(self,r,h): \n",
        " \n",
        "        self.r=r\n",
        "        \n",
        "        self.h=h\n",
        "        \n",
        "    def volume(self):\n",
        "        \n",
        "        result = (1 / 3) * pi * self.r * self.r * self.h\n",
        "        \n",
        "        print(\"\\nVolume Of Cone is :\",result)\n",
        "        \n",
        "    def surfacearea(self):\n",
        "        \n",
        "        result = (pi * self.r *self.r) + (pi *self.r* (self.r **2 +self.h **2)**0.5)\n",
        "         \n",
        "        print(\"\\nSurface Area Of Cone is :\",result)\n",
        " \n",
        "r = float(input(\"\\nEnter the radius of cone : \"))\n",
        " \n",
        "h = float(input(\"\\nEnter the height of cone : \"))\n",
        " \n",
        "c = cone( r, h)\n",
        " \n",
        "c.volume()\n",
        " \n",
        "c.surfacearea()"
      ],
      "execution_count": 1,
      "outputs": [
        {
          "output_type": "stream",
          "text": [
            "\n",
            "Enter the radius of cone : 5\n",
            "\n",
            "Enter the height of cone : 5\n",
            "\n",
            "Volume Of Cone is : 130.89969389957471\n",
            "\n",
            "Surface Area Of Cone is : 189.611889793704\n"
          ],
          "name": "stdout"
        }
      ]
    }
  ]
}